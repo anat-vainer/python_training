{
 "cells": [
  {
   "cell_type": "markdown",
   "id": "60cc3143-7327-4916-b4dc-6bf5caddf2e7",
   "metadata": {},
   "source": [
    "Import numpy and pandas:"
   ]
  },
  {
   "cell_type": "code",
   "execution_count": null,
   "id": "bff95550-154b-4774-ac86-51b6702aff7b",
   "metadata": {},
   "outputs": [],
   "source": []
  },
  {
   "cell_type": "markdown",
   "id": "60178c10-5054-4688-ae97-c2cb13ce21a0",
   "metadata": {},
   "source": [
    "1. Create a 3*10 numpy array with randomly generated values.\n",
    "    1. Create a pandas DataFrame (df) based on this numpy array.\n",
    "    2. Define the dtype of each column.\n",
    "    3. Name the columns 'x', 'y', 'z'.\n",
    "    4. Sort the df by column 'y'."
   ]
  },
  {
   "cell_type": "code",
   "execution_count": null,
   "id": "9bae623f-cab4-4ed7-97ea-8780b7c2e3d0",
   "metadata": {},
   "outputs": [],
   "source": []
  },
  {
   "cell_type": "markdown",
   "id": "318cbb84-5815-4cc5-b707-0c0070457bf6",
   "metadata": {},
   "source": [
    "2. Create a 3*10 numpy array with randomly generated values.\n",
    "    1. Create a pandas DataFrame (df) based on this numpy array.\n",
    "    2. Define the dtype of each column.\n",
    "    3. Name the columns 'x', 'y', 'z'.\n",
    "    4. Sort the df by column 'y'."
   ]
  },
  {
   "cell_type": "code",
   "execution_count": null,
   "id": "42fa5dbf-8ff5-4691-ac33-8f2b90525021",
   "metadata": {},
   "outputs": [],
   "source": []
  }
 ],
 "metadata": {
  "kernelspec": {
   "display_name": "Python 3 (ipykernel)",
   "language": "python",
   "name": "python3"
  },
  "language_info": {
   "codemirror_mode": {
    "name": "ipython",
    "version": 3
   },
   "file_extension": ".py",
   "mimetype": "text/x-python",
   "name": "python",
   "nbconvert_exporter": "python",
   "pygments_lexer": "ipython3",
   "version": "3.12.2"
  }
 },
 "nbformat": 4,
 "nbformat_minor": 5
}
